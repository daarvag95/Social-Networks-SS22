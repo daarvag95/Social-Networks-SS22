{
 "cells": [
  {
   "cell_type": "markdown",
   "metadata": {},
   "source": [
    "# Social Networks - Assignment 0 [optional]\n",
    "\n",
    "This **Home Assignment** is **optional**, it does not count towards your final chance to take part in the exam. It familiarizes you with basics of *statistics* and basics of the *sklearn* package and most importantly with the general setup for home assignments.\n",
    "This first home assignment is shorter and also less difficult than upcoming ones.\n",
    "\n",
    "You can expect numpy, pandas and sklearn to be installed\n",
    "\n",
    "## Formalities\n",
    "\n",
    "**Submit in a group of 3-4 people until 28.04.2022 23:59CET. The deadline is strict!**\n",
    "\n",
    "## Evaluation and Grading\n",
    "General advice for programming excercises at *CSSH*:\n",
    "Evaluation of your submission is done semi-automatically. Think of it as this notebook being \n",
    "executed once. Afterwards, some test functions are appended to this file and executed respectively.\n",
    "\n",
    "Therefore:\n",
    "* Submit valid _Python3_ code only!\n",
    "* Use external libraries only when specified by task.\n",
    "* Ensure your definitions (functions, classes, methods, variables) follow the specification if\n",
    "  given. The concrete signature of e.g. a function usually can be inferred from task description, \n",
    "  code skeletons and test cases.\n",
    "* Ensure the notebook does not rely on current notebook or system state!\n",
    "  * Use `Kernel --> Restart & Run All` to see if you are using any definitions, variables etc. that \n",
    "    are not in scope anymore.\n",
    "* Keep your code idempotent! Running it or parts of it multiple times must not yield different\n",
    "  results. Minimize usage of global variables.\n",
    "* Ensure your code / notebook terminates in reasonable time.\n",
    "\n",
    "**There's a story behind each of these points! Don't expect us to fix your stuff!**\n",
    "\n",
    "Regarding the scores, you will get no points for a task if:\n",
    "- your function throws an unexpected error (e.g. takes the wrong number of arguments)\n",
    "- gets stuck in an infinite loop\n",
    "- takes much much longer than expected (e.g. >1s to compute the mean of two numbers)\n",
    "- does not produce the desired output (e.g. returns an descendingly sorted list even though we asked for ascending, returns the mean and the std even though we asked for only the mean, prints an output instead of returning it!)"
   ]
  },
  {
   "cell_type": "code",
   "execution_count": 1,
   "metadata": {},
   "outputs": [],
   "source": [
    "# credentials of all team members (you may add or remove members from the list)\n",
    "team_members = [\n",
    "    {\n",
    "        'first_name': 'Felix',\n",
    "        'last_name': 'Stamm',\n",
    "        'student_id': 123451\n",
    "    },\n",
    "    {\n",
    "        'first_name': 'Bob',\n",
    "        'last_name': 'Bar',\n",
    "        'student_id': 54321\n",
    "    }\n",
    "]"
   ]
  },
  {
   "cell_type": "code",
   "execution_count": 2,
   "metadata": {},
   "outputs": [],
   "source": [
    "from typing import List, Union\n",
    "from numbers import Number\n",
    "from unittest import TestCase\n",
    "some_testCase = TestCase()"
   ]
  },
  {
   "cell_type": "markdown",
   "metadata": {},
   "source": [
    "# General remarks\n",
    "\n",
    "\n",
    "- Even though this is an optional Assignment, use this opportunity to test/train for the real home assignments\n",
    "- Python has weak scoping, be careful not to use variables from outside instead of those defined in the functions\n",
    "- You are welcome to add additional usecases to test your function\n",
    "- Try to keep your code as deterministic as possible"
   ]
  },
  {
   "cell_type": "markdown",
   "metadata": {},
   "source": [
    "## Task 1 (5 points total)\n",
    "To refresh your knowledge on basic statistics we are going to implement mean, mode, median and standard deviation. All these functions should leave the input argument intact. Try to come up with your own solution and do *not* just use the functions from the statistics/numpy/pandas package.\n",
    "\n",
    "\n",
    "### 1a) Mean (1)\n",
    "Write a function ```my_mean``` that takes a list of numeric values and returns the mean. "
   ]
  },
  {
   "cell_type": "code",
   "execution_count": 3,
   "metadata": {},
   "outputs": [],
   "source": [
    "def my_mean(l : List[Number]) -> Number:\n",
    "    return 0"
   ]
  },
  {
   "cell_type": "code",
   "execution_count": 5,
   "metadata": {},
   "outputs": [
    {
     "name": "stdout",
     "output_type": "stream",
     "text": [
      "2.0\n",
      "2.5\n"
     ]
    }
   ],
   "source": [
    "print(my_mean([1,2,3]))# 2\n",
    "print(my_mean([1,2,3,4]))# 2.5"
   ]
  },
  {
   "cell_type": "markdown",
   "metadata": {},
   "source": [
    "### 1b) Std (1)\n",
    "Write a function ```my_std``` that takes a list of numeric values and returns the standard deviation. Divide by n and not by n-1."
   ]
  },
  {
   "cell_type": "code",
   "execution_count": 6,
   "metadata": {},
   "outputs": [],
   "source": [
    "def my_std(l : List[Number]) -> Number:\n",
    "    return 0"
   ]
  },
  {
   "cell_type": "code",
   "execution_count": 8,
   "metadata": {},
   "outputs": [
    {
     "name": "stdout",
     "output_type": "stream",
     "text": [
      "0.5\n"
     ]
    }
   ],
   "source": [
    "print(my_std([3,4])) #0.5"
   ]
  },
  {
   "cell_type": "markdown",
   "metadata": {},
   "source": [
    "### 1c) Mode (2)\n",
    "Write a function ```my_mode``` that takes a list and returns the mode.\n",
    "If there is no unique mode, raise a ValueError.\n"
   ]
  },
  {
   "cell_type": "code",
   "execution_count": 9,
   "metadata": {},
   "outputs": [],
   "source": [
    "def my_mode(l : List):\n",
    "    return 0\n",
    "    raise ValueError(\"No unique mode\") # how to raise an error"
   ]
  },
  {
   "cell_type": "code",
   "execution_count": 13,
   "metadata": {},
   "outputs": [
    {
     "name": "stdout",
     "output_type": "stream",
     "text": [
      "3\n",
      "2.7\n"
     ]
    }
   ],
   "source": [
    "print(my_mode([3,3,4])) #3\n",
    "print(my_mode([2.7,2.7,4])) #2.7\n",
    "with some_testCase.assertRaises(ValueError):\n",
    "    print(my_mode([3,4])) #ValueError"
   ]
  },
  {
   "cell_type": "markdown",
   "metadata": {},
   "source": [
    "### 1d) Median (1)\n",
    "Write a function ```my_median``` that takes a list of numeric values and returns the median."
   ]
  },
  {
   "cell_type": "code",
   "execution_count": null,
   "metadata": {},
   "outputs": [],
   "source": [
    "def my_median(l : List[Number]) -> Number:\n",
    "    return 0"
   ]
  },
  {
   "cell_type": "code",
   "execution_count": null,
   "metadata": {},
   "outputs": [],
   "source": [
    "print(my_median([1,2,3])) # 2\n",
    "print(my_median([1,2,3,4]))# 2.5"
   ]
  },
  {
   "cell_type": "markdown",
   "metadata": {},
   "source": [
    "## Task 2 (10 points)\n",
    "In this task we are going to explore basic classifiers and the sklearn package.\n",
    "### 2a) Preprocessing (2)\n",
    "Write a function ```preprocess```. It takes a **relative** path as string as input, and optionally a random_state.\n",
    "\n",
    "It does:\n",
    "\n",
    "- read the credit_g dataset into a pandas dataframe. Assume that the path points to the file. Assume that missing values are given as `'?'`\n",
    "- compute the boolean target vector (True if `'class'` is `'good'`)\n",
    "- remove the target column (`'class'`) from the dataframe\n",
    "- convert the categorical variables to numeric ones using `pd.get_dummies`\n",
    "- perform a (80/20) train/test split using `sklearn.model_selection.train_test_split` with the provided `random_state`\n",
    "- returns the results of the train/test split in the order obtained from the function\n"
   ]
  },
  {
   "cell_type": "code",
   "execution_count": 39,
   "metadata": {},
   "outputs": [],
   "source": [
    "my_path = \"credit-g.csv\"\n",
    "# modify your path here"
   ]
  },
  {
   "cell_type": "code",
   "execution_count": 41,
   "metadata": {},
   "outputs": [],
   "source": [
    "import pandas as pd\n",
    "import numpy as np\n",
    "from pathlib import Path\n",
    "\n",
    "def preprocess(path : str, random_state = 1) -> (pd.DataFrame, Union[pd.Series, np.array]):\n",
    "    pass"
   ]
  },
  {
   "cell_type": "code",
   "execution_count": 43,
   "metadata": {},
   "outputs": [
    {
     "name": "stdout",
     "output_type": "stream",
     "text": [
      "Int64Index([382, 994, 982, 47, 521], dtype='int64')\n"
     ]
    }
   ],
   "source": [
    "# example usage\n",
    "X_train, X_test, y_train, y_test = preprocess(my_path)\n",
    "print(X_train.head().index)\n",
    "#Int64Index([382, 994, 982, 47, 521], dtype='int64')\n",
    "\n"
   ]
  },
  {
   "cell_type": "markdown",
   "metadata": {},
   "source": [
    "### 2b) Train linear SVM classifier (1)\n",
    "Write a function ```train_LinearSVM_classifier``` that trains a Linear Support Vector classifier.\n",
    "\n",
    "It takes four arguments, the first one is the train dataset, the second the target array, the third a random state, the last one the maximum number of iterations until the classifier should stop training. It returns the trained classifier.\n",
    "Use the Linear support vector classifier from sklearn with the given `random_state` and `max_iter`.\n",
    "\n",
    "\n",
    "### 2c) Train logistic regression classifier (1)\n",
    "Write a function ```train_LogisticRegression_classifier``` that trains a Logistic regression classifier.\n",
    "\n",
    "It takes four arguments, the first one is the train dataset, the second the target array, the third a random state, the last one the maximum number of iterations until the classifier should stop training. It returns the trained classifier.\n",
    "Use the logistic regression classifier from sklearn with the given `random_state` and `max_iter`."
   ]
  },
  {
   "cell_type": "code",
   "execution_count": 44,
   "metadata": {},
   "outputs": [],
   "source": [
    "def train_LinearSVM_classifier(X_train, y_train, random_state=1, max_iter=1000):\n",
    "    pass"
   ]
  },
  {
   "cell_type": "code",
   "execution_count": 46,
   "metadata": {},
   "outputs": [
    {
     "name": "stderr",
     "output_type": "stream",
     "text": [
      "e:\\teaching\\env\\lib\\site-packages\\sklearn\\svm\\_base.py:976: ConvergenceWarning: Liblinear failed to converge, increase the number of iterations.\n",
      "  warnings.warn(\"Liblinear failed to converge, increase \"\n"
     ]
    },
    {
     "data": {
      "text/plain": [
       "LinearSVC(random_state=1)"
      ]
     },
     "execution_count": 46,
     "metadata": {},
     "output_type": "execute_result"
    }
   ],
   "source": [
    "# example usage\n",
    "train_LinearSVM_classifier(X_train, y_train) # LinearSVC(random_state=1)\n",
    "# We just ignore the warning"
   ]
  },
  {
   "cell_type": "code",
   "execution_count": 47,
   "metadata": {},
   "outputs": [],
   "source": [
    "def train_LogisticRegression_classifier(X_train, y_train, random_state=1, max_iter=1000):\n",
    "    pass"
   ]
  },
  {
   "cell_type": "code",
   "execution_count": 49,
   "metadata": {},
   "outputs": [
    {
     "data": {
      "text/plain": [
       "LogisticRegression(max_iter=1000, random_state=1)"
      ]
     },
     "execution_count": 49,
     "metadata": {},
     "output_type": "execute_result"
    }
   ],
   "source": [
    "# example usage\n",
    "train_LogisticRegression_classifier(X_train, y_train) # LogisticRegression(max_iter=1000, random_state=1)"
   ]
  },
  {
   "cell_type": "markdown",
   "metadata": {},
   "source": [
    "\n",
    "### 2d) Evaluate the results  (4)\n",
    "Write a function ```get_scores``` that computes the precision, recall, accuracy and F1 scores.\n",
    "It takes three arguments. The first one is a trained classifier, the second one is the test dataset to evaluate the classifier on, the third is the ground truth target vector.\n",
    "The function returns a dictionary like this:\n",
    "\n",
    "```python\n",
    "{'accuracy' : accuracy,\n",
    " 'recall' : recall,\n",
    " 'precision' : precision,\n",
    " 'F1' : F1}\n",
    " ```\n",
    "\n",
    "Try to program the solution yourself instead of using the functions from sklearn\n"
   ]
  },
  {
   "cell_type": "code",
   "execution_count": 50,
   "metadata": {},
   "outputs": [],
   "source": [
    "def get_scores(clf, x_test, gt_labels) -> dict:\n",
    "    accuracy=0\n",
    "    recall=0\n",
    "    precision=0\n",
    "    F1=0\n",
    "    return     {'accuracy' : accuracy,\n",
    "                 'recall' : recall,\n",
    "                 'precision' : precision,\n",
    "                 'F1' : F1}"
   ]
  },
  {
   "cell_type": "code",
   "execution_count": 52,
   "metadata": {},
   "outputs": [
    {
     "data": {
      "text/plain": [
       "{'accuracy': 0.77,\n",
       " 'recall': 0.900709219858156,\n",
       " 'precision': 0.7987421383647799,\n",
       " 'F1': 0.8466666666666667}"
      ]
     },
     "execution_count": 52,
     "metadata": {},
     "output_type": "execute_result"
    }
   ],
   "source": [
    "# example usage\n",
    "clf = train_LogisticRegression_classifier(X_train, y_train)\n",
    "get_scores(clf, X_test, y_test)\n",
    "\n",
    "# expected output\n",
    "#{'accuracy': 0.77,\n",
    "# 'recall': 0.900709219858156,\n",
    "# 'precision': 0.7987421383647799,\n",
    "# 'F1': 0.8466666666666667}\n",
    "# Don't worry if the last 3,4,5 digits don't match"
   ]
  },
  {
   "cell_type": "markdown",
   "metadata": {},
   "source": [
    "\n",
    "### 2 e) Bringing it all together  (2)\n",
    "Write two functions: ```run_SVM``` and ```run_Log``` that use the above functions to train and evaluate an SVM classifier and a Logistic regression classifier respectively.\n",
    "It therefore\n",
    "\n",
    "1. loads the dataset & performs a train/test split\n",
    "2. trains the respective classifier using the `random_state` and `max_iter`\n",
    "3. returns the scores dictionary\n",
    "\n",
    "Thereby, use the functions ```preprocess```, ```train_LinearSVM_classifier```, ```train_LogisticRegression_classifier```, ```get_scores``` you defined above."
   ]
  },
  {
   "cell_type": "code",
   "execution_count": 35,
   "metadata": {},
   "outputs": [],
   "source": [
    "def run_Log(path : str, random_state=1, max_iter=1000):\n",
    "    pass\n",
    "\n",
    "def run_SVM(path : str, random_state=1, max_iter=1000):\n",
    "    pass"
   ]
  },
  {
   "cell_type": "code",
   "execution_count": 53,
   "metadata": {},
   "outputs": [
    {
     "name": "stdout",
     "output_type": "stream",
     "text": [
      "{'accuracy': 0.77, 'recall': 0.900709219858156, 'precision': 0.7987421383647799, 'F1': 0.8466666666666667}\n",
      "{'accuracy': 0.72, 'recall': 0.9929078014184397, 'precision': 0.717948717948718, 'F1': 0.8333333333333333}\n"
     ]
    },
    {
     "name": "stderr",
     "output_type": "stream",
     "text": [
      "e:\\teaching\\env\\lib\\site-packages\\sklearn\\svm\\_base.py:976: ConvergenceWarning: Liblinear failed to converge, increase the number of iterations.\n",
      "  warnings.warn(\"Liblinear failed to converge, increase \"\n"
     ]
    }
   ],
   "source": [
    "print(run_Log(my_path))\n",
    "# {'accuracy': 0.77, 'recall': 0.900709219858156, 'precision': 0.7987421383647799, 'F1': 0.8466666666666667}\n",
    "print(run_SVM(my_path))\n",
    "# {'accuracy': 0.72, 'recall': 0.9929078014184397, 'precision': 0.717948717948718, 'F1': 0.8333333333333333}\n",
    "# we ignore warning"
   ]
  },
  {
   "cell_type": "code",
   "execution_count": 54,
   "metadata": {},
   "outputs": [
    {
     "name": "stdout",
     "output_type": "stream",
     "text": [
      "{'accuracy': 0.72, 'recall': 1.0, 'precision': 0.7157360406091371, 'F1': 0.834319526627219}\n"
     ]
    },
    {
     "name": "stderr",
     "output_type": "stream",
     "text": [
      "e:\\teaching\\env\\lib\\site-packages\\sklearn\\svm\\_base.py:976: ConvergenceWarning: Liblinear failed to converge, increase the number of iterations.\n",
      "  warnings.warn(\"Liblinear failed to converge, increase \"\n"
     ]
    }
   ],
   "source": [
    "print(run_SVM(my_path, random_state=123))\n",
    "# {'accuracy': 0.72, 'recall': 1.0, 'precision': 0.7157360406091371, 'F1': 0.834319526627219}\n",
    "# we ignore warning"
   ]
  },
  {
   "cell_type": "code",
   "execution_count": null,
   "metadata": {},
   "outputs": [],
   "source": []
  },
  {
   "cell_type": "code",
   "execution_count": null,
   "metadata": {},
   "outputs": [],
   "source": []
  },
  {
   "cell_type": "code",
   "execution_count": null,
   "metadata": {},
   "outputs": [],
   "source": []
  }
 ],
 "metadata": {
  "kernelspec": {
   "display_name": "Python 3",
   "language": "python",
   "name": "python3"
  },
  "language_info": {
   "codemirror_mode": {
    "name": "ipython",
    "version": 3
   },
   "file_extension": ".py",
   "mimetype": "text/x-python",
   "name": "python",
   "nbconvert_exporter": "python",
   "pygments_lexer": "ipython3",
   "version": "3.8.10"
  }
 },
 "nbformat": 4,
 "nbformat_minor": 2
}
