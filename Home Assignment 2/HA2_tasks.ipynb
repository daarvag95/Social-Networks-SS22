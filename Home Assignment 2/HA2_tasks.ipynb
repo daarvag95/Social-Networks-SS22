{
 "cells": [
  {
   "cell_type": "markdown",
   "metadata": {},
   "source": [
    "# Social Networks - Assignment 2\n",
    "\n",
    "This **Home Assignment** is **mandatory**, it does count towards your final chance to take part in the exam. This assignment covers MCMC sampling and exponential random graphs.\n",
    "\n",
    "You can expect numpy, matplotlib and networkx to be installed.\n",
    "\n",
    "## Formalities\n",
    "\n",
    "**Submit in a group of 3-4 people until 26.05.2022 23:59CET. The deadline is strict!**\n",
    "\n",
    "You have the opportunity for an prelim submission until 22.05.2022 23:59 CET. We will run your code once, and you can thus see whether there are small bugs that you might not have expected.\n",
    "\n",
    "## Evaluation and Grading\n",
    "General advice for programming excercises at *CSSH*:\n",
    "Evaluation of your submission is done semi-automatically. Think of it as this notebook being \n",
    "executed once. Afterwards, some test functions are appended to this file and executed respectively.\n",
    "\n",
    "Therefore:\n",
    "* Submit valid _Python3_ code only!\n",
    "* Use external libraries only when specified by task.\n",
    "* Ensure your definitions (functions, classes, methods, variables) follow the specification if\n",
    "  given. The concrete signature of e.g. a function usually can be inferred from task description, \n",
    "  code skeletons and test cases.\n",
    "* Ensure the notebook does not rely on current notebook or system state!\n",
    "  * Use `Kernel --> Restart & Run All` to see if you are using any definitions, variables etc. that \n",
    "    are not in scope anymore.\n",
    "* Keep your code idempotent! Running it or parts of it multiple times must not yield different\n",
    "  results. Minimize usage of global variables.\n",
    "* Ensure your code / notebook terminates in reasonable time.\n",
    "\n",
    "**There's a story behind each of these points! Don't expect us to fix your stuff!**\n",
    "\n",
    "Regarding the scores, you will get no points for a task if:\n",
    "- your function throws an unexpected error (e.g. takes the wrong number of arguments)\n",
    "- gets stuck in an infinite loop\n",
    "- takes much much longer than expected (e.g. >1s to compute the mean of two numbers)\n",
    "- does not produce the desired output (e.g. returns an descendingly sorted list even though we asked for ascending, returns the mean and the std even though we asked for only the mean, prints an output instead of returning it!)"
   ]
  },
  {
   "cell_type": "code",
   "execution_count": 57,
   "metadata": {},
   "outputs": [],
   "source": [
    "# credentials of all team members (you may add or remove members from the list)\n",
    "team_members = [\n",
    "    {\n",
    "        'first_name': 'Tobias',\n",
    "        'last_name': 'Holtdirk',\n",
    "        'student_id': 344175\n",
    "    },\n",
    "    {\n",
    "        'first_name': 'Asma',\n",
    "        'last_name': 'Aziz',\n",
    "        'student_id': 426774\n",
    "    },\n",
    "    {\n",
    "        'first_name': 'Seyed Pouria',\n",
    "        'last_name': 'Mirelmi',\n",
    "        'student_id': 416910\n",
    "    }\n",
    "]"
   ]
  },
  {
   "cell_type": "code",
   "execution_count": 2,
   "metadata": {},
   "outputs": [
    {
     "name": "stdout",
     "output_type": "stream",
     "text": [
      "1.22.3\n"
     ]
    }
   ],
   "source": [
    "import numpy as np\n",
    "print(np.__version__)# 1.22.3\n",
    "assert np.__version__.startswith(\"1.22\")\n",
    "# it is important that you use the same numpy version as otherwise you will get different random number streams\n",
    "# and thus none of the examples will look correct"
   ]
  },
  {
   "cell_type": "code",
   "execution_count": 3,
   "metadata": {},
   "outputs": [],
   "source": [
    "import numpy as np\n",
    "import matplotlib.pyplot as plt\n",
    "from functools import partial # <------ gets used a lot in the script, and you will also need it!\n",
    "from collections import Counter\n",
    "from itertools import chain"
   ]
  },
  {
   "cell_type": "markdown",
   "metadata": {},
   "source": [
    "#### Small helper function"
   ]
  },
  {
   "cell_type": "code",
   "execution_count": 4,
   "metadata": {},
   "outputs": [],
   "source": [
    "def e(u,v):\n",
    "    \"\"\"Small helper function that always creates edges that are sorted\"\"\"\n",
    "    # an alternative would be to represent the edges as frozensets\n",
    "    # I personally prefer to represent them as tuples - nicer printing ;)\n",
    "    return (min(u,v), max(u,v))"
   ]
  },
  {
   "cell_type": "markdown",
   "metadata": {},
   "source": [
    "## Task 1) Generic MCMC setup (14 points)\n",
    "\n",
    "\n",
    "Our generic MCMC setup consists of 4 components.\n",
    "\n",
    "1) The move generator:\n",
    "<br>\n",
    "Produces move suggestions in the form of edges to be added and edges to be deleted. If a move was accepted by the acceptor the suggested move is applied to the graph.\n",
    "\n",
    "2) The acceptor:\n",
    "<br>\n",
    "Potentially accepts a suggested move. The acceptance probability is provided in part by the delta calculator.\n",
    "\n",
    "3) The delta calculator:\n",
    "<br>\n",
    "Is very custom for the kind of graph model you are interested in and calculates $\\frac{P(G')}{P(G)}$ based on the current state and the state one potentially transitions into.\n",
    "\n",
    "\n",
    "4) The random_walker function:\n",
    "<br>\n",
    "Is a generator that you can send the number of steps to advance the system. It then uses the acceptor and generator to advance the system accordingly.\n"
   ]
  },
  {
   "cell_type": "markdown",
   "metadata": {},
   "source": [
    "### a) The random walker function (1)\n",
    "\n",
    "We have provided a dummy generator (which always proposes to flip dyad (0,0)) and a dummy acceptor (which accepts the flip with probability 0.5).\n",
    "\n",
    "Write the random walker which will advance a system a specific number of steps using a move generator and an acceptor."
   ]
  },
  {
   "cell_type": "code",
   "execution_count": 5,
   "metadata": {},
   "outputs": [],
   "source": [
    "from typing import Generator\n",
    "\n",
    "def dummy_generator(E: set[tuple]) -> Generator:\n",
    "    while True:\n",
    "        if (0,0) in E:\n",
    "            # Flip\n",
    "            print(\"# Proposing to remove (0,0)\")\n",
    "            accept_change = yield ((0,0),) , tuple()\n",
    "\n",
    "            if accept_change:\n",
    "                print(\"# removing\")\n",
    "                E.remove((0,0))\n",
    "        else:\n",
    "            # Flip\n",
    "            print(\"# Proposing to add (0,0)\")\n",
    "            accept_change = yield tuple(), ((0,0),)\n",
    "\n",
    "            if accept_change:\n",
    "                print(\"# adding\")\n",
    "                E.add((0,0))\n",
    "        yield"
   ]
  },
  {
   "cell_type": "code",
   "execution_count": 6,
   "metadata": {},
   "outputs": [],
   "source": [
    "# test\n",
    "E = {(1,1)}\n",
    "itero = dummy_generator(E)"
   ]
  },
  {
   "cell_type": "code",
   "execution_count": 7,
   "metadata": {},
   "outputs": [
    {
     "name": "stdout",
     "output_type": "stream",
     "text": [
      "# Proposing to add (0,0)\n",
      "# adding\n"
     ]
    },
    {
     "data": {
      "text/plain": [
       "{(0, 0), (1, 1)}"
      ]
     },
     "execution_count": 7,
     "metadata": {},
     "output_type": "execute_result"
    }
   ],
   "source": [
    "# test\n",
    "next(itero)\n",
    "itero.send(True)\n",
    "E"
   ]
  },
  {
   "cell_type": "code",
   "execution_count": 8,
   "metadata": {},
   "outputs": [],
   "source": [
    "def dummy_acceptor(rng: np.random.Generator, to_remove: tuple, to_add: tuple) -> bool:\n",
    "    decision =  rng.random() < 0.5\n",
    "    print(\"# decision is \", decision)\n",
    "    return decision"
   ]
  },
  {
   "cell_type": "code",
   "execution_count": 9,
   "metadata": {},
   "outputs": [],
   "source": [
    "def random_walker(move_generator: Generator, acceptor, num_steps: int):\n",
    "    for _ in range(num_steps):\n",
    "        to_remove, to_add = next(move_generator)\n",
    "        move_generator.send(acceptor(to_remove, to_add))"
   ]
  },
  {
   "cell_type": "code",
   "execution_count": 10,
   "metadata": {},
   "outputs": [
    {
     "name": "stdout",
     "output_type": "stream",
     "text": [
      "# Proposing to add (0,0)\n",
      "# decision is  False\n",
      "# set() \n",
      "\n",
      "# Proposing to add (0,0)\n",
      "# decision is  False\n",
      "# set() \n",
      "\n",
      "# Proposing to add (0,0)\n",
      "# decision is  True\n",
      "# adding\n",
      "# {(0, 0)} \n",
      "\n",
      "# Proposing to remove (0,0)\n",
      "# decision is  False\n",
      "# {(0, 0)} \n",
      "\n",
      "# Proposing to remove (0,0)\n",
      "# decision is  True\n",
      "# removing\n",
      "# set() \n",
      "\n",
      "# Proposing to add (0,0)\n",
      "# decision is  True\n",
      "# adding\n",
      "# {(0, 0)} \n",
      "\n",
      "# Proposing to remove (0,0)\n",
      "# decision is  False\n",
      "# {(0, 0)} \n",
      "\n",
      "# Proposing to remove (0,0)\n",
      "# decision is  True\n",
      "# removing\n",
      "# set() \n",
      "\n",
      "# Proposing to add (0,0)\n",
      "# decision is  False\n",
      "# set() \n",
      "\n",
      "# Proposing to add (0,0)\n",
      "# decision is  True\n",
      "# adding\n",
      "# {(0, 0)} \n",
      "\n"
     ]
    }
   ],
   "source": [
    "E = set()\n",
    "rng1 =np.random.default_rng(1)\n",
    "acceptor1 = partial(dummy_acceptor, rng1)\n",
    "generator1 = dummy_generator(E)\n",
    "walker = partial(random_walker, generator1, acceptor1)\n",
    "for _ in range(10):\n",
    "    walker(1) # advance state one step\n",
    "    print(\"#\", E, \"\\n\")\n",
    "\n",
    "# Proposing to add (0,0)\n",
    "# decision is  False\n",
    "# set() \n",
    "\n",
    "# Proposing to add (0,0)\n",
    "# decision is  False\n",
    "# set() \n",
    "\n",
    "# Proposing to add (0,0)\n",
    "# decision is  True\n",
    "# adding\n",
    "# {(0, 0)} \n",
    "\n",
    "# Proposing to remove (0,0)\n",
    "# decision is  False\n",
    "# {(0, 0)} \n",
    "\n",
    "# Proposing to remove (0,0)\n",
    "# decision is  True\n",
    "# removing\n",
    "# set() \n",
    "\n",
    "# Proposing to add (0,0)\n",
    "# decision is  True\n",
    "# adding\n",
    "# {(0, 0)} \n",
    "\n",
    "# Proposing to remove (0,0)\n",
    "# decision is  False\n",
    "# {(0, 0)} \n",
    "\n",
    "# Proposing to remove (0,0)\n",
    "# decision is  True\n",
    "# removing\n",
    "# set() \n",
    "\n",
    "# Proposing to add (0,0)\n",
    "# decision is  False\n",
    "# set() \n",
    "\n",
    "# Proposing to add (0,0)\n",
    "# decision is  True\n",
    "# adding\n",
    "# {(0, 0)} \n",
    "\n",
    "\n",
    "\n"
   ]
  },
  {
   "cell_type": "markdown",
   "metadata": {},
   "source": [
    "### b) The acceptors\n",
    "\n",
    "The acceptors decide whether a move was accepted or not (bool, `True` means move is accepted). The model specific delta_calculator return $\\frac{P(G')}{P(G)}$ given a suggested move.\n",
    "\n",
    "Use `rng.random()` to generate the random number used to make the decision. `to_remove` and `to_add` shall be tuples of edges (tuples) corresponding to proposed changes."
   ]
  },
  {
   "cell_type": "markdown",
   "metadata": {},
   "source": [
    "### b1) Metropolis-Hastings acceptor (0.5)\n",
    "\n",
    "The first type is the metropolis-hastings acceptor (deck 04, slide 30, the part with min). "
   ]
  },
  {
   "cell_type": "code",
   "execution_count": 11,
   "metadata": {},
   "outputs": [],
   "source": [
    "def metropolis_acceptor(delta_calculator, rng: np.random.Generator, to_remove: tuple[tuple], to_add: tuple[tuple]) -> bool:\n",
    "    delta = delta_calculator(to_remove, to_add)\n",
    "    proba = min(1, delta)\n",
    "    return rng.random() < proba"
   ]
  },
  {
   "cell_type": "markdown",
   "metadata": {},
   "source": [
    "### b2) Glauber acceptor (0.5)\n",
    "\n",
    "The acceptance probability for the Glauber acceptor can be found on (deck 04, slide 29)"
   ]
  },
  {
   "cell_type": "code",
   "execution_count": 12,
   "metadata": {},
   "outputs": [],
   "source": [
    "def glauber_acceptor(delta_calculator, rng: np.random.Generator, to_remove: tuple[tuple], to_add: tuple[tuple]):\n",
    "    delta = delta_calculator(to_remove, to_add)\n",
    "    proba = 1/(1+(1/delta))\n",
    "    return rng.random() < proba\n"
   ]
  },
  {
   "cell_type": "code",
   "execution_count": null,
   "metadata": {},
   "outputs": [],
   "source": []
  },
  {
   "cell_type": "code",
   "execution_count": null,
   "metadata": {},
   "outputs": [],
   "source": []
  },
  {
   "cell_type": "code",
   "execution_count": 13,
   "metadata": {},
   "outputs": [],
   "source": [
    "def delta_calculator_05(to_remove, to_add):\n",
    "    \"\"\"Dummy delta calculator that just returns 0.5\"\"\"\n",
    "    return 0.5"
   ]
  },
  {
   "cell_type": "code",
   "execution_count": 14,
   "metadata": {},
   "outputs": [
    {
     "name": "stdout",
     "output_type": "stream",
     "text": [
      "# False\n",
      "# False\n",
      "# True\n",
      "# False\n",
      "# True\n",
      "# False\n",
      "# False\n",
      "# False\n",
      "# False\n",
      "# True\n"
     ]
    }
   ],
   "source": [
    "rng1 = np.random.default_rng(1)\n",
    "acceptor = partial(glauber_acceptor, delta_calculator_05, rng1)\n",
    "for i in range(10):\n",
    "    print(\"#\", acceptor([], []))\n",
    "    \n",
    "# False\n",
    "# False\n",
    "# True\n",
    "# False\n",
    "# True\n",
    "# False\n",
    "# False\n",
    "# False\n",
    "# False\n",
    "# True"
   ]
  },
  {
   "cell_type": "code",
   "execution_count": 15,
   "metadata": {},
   "outputs": [
    {
     "name": "stdout",
     "output_type": "stream",
     "text": [
      "# False\n",
      "# False\n",
      "# True\n",
      "# False\n",
      "# True\n",
      "# True\n",
      "# False\n",
      "# True\n",
      "# False\n",
      "# True\n"
     ]
    }
   ],
   "source": [
    "rng1 = np.random.default_rng(1)\n",
    "acceptor = partial(metropolis_acceptor, delta_calculator_05, rng1)\n",
    "for i in range(10):\n",
    "    print(\"#\", acceptor([], []))\n",
    "    \n",
    "# False\n",
    "# False\n",
    "# True\n",
    "# False\n",
    "# True\n",
    "# True\n",
    "# False\n",
    "# True\n",
    "# False\n",
    "# True"
   ]
  },
  {
   "cell_type": "markdown",
   "metadata": {},
   "source": [
    "### c) Dyad flip move generator (2)\n",
    "\n",
    "Write a generator that proposes moves as two tuples. The first tuple contains the edge to be added, the second tuple the edge to be removed.\n",
    "\n",
    "The generator takes as input an $rng$, the number of nodes $n$ and a set of edges `G`. It should update `G` based on the accepted changes and $yield$ the tuples of tuples at each decision point.\n",
    "\n",
    "Assume that the Graph `G` does support only three things `.add((i,j))` which adds an edge, `.remove((i,j))` to remove an edge and `(i,j) in G` to check whether the Graph contains the edge as well as iteration throught the graph. The tuple `(i,j)` will be treated differently from the tuple `(j,i)`.\n",
    "\n",
    "To obtain dyads to flip we use a rejection sampling approach, i.e. we sample two integers i,j in [0..n-1] and simply generate new samples if i=j. We then form a dyad from those edges through `e(i,j)`."
   ]
  },
  {
   "cell_type": "code",
   "execution_count": 16,
   "metadata": {},
   "outputs": [],
   "source": [
    "def dyad_flip_generator(rng: np.random.Generator, n, G: set):\n",
    "    while True:\n",
    "        # rejection sampling\n",
    "        i = 0\n",
    "        j = 0\n",
    "        while i == j:\n",
    "            i = rng.integers(0, n)\n",
    "            j = rng.integers(0, n)\n",
    "        dyad = e(i, j)\n",
    "        if dyad in G:\n",
    "            # Flip\n",
    "            # print(f\"# Proposing to remove {dyad}\")\n",
    "            accept_change = yield tuple(), (dyad,)\n",
    "\n",
    "            if accept_change:\n",
    "                # print(\"# removing\")\n",
    "                G.remove(dyad)\n",
    "        else:\n",
    "            # Flip\n",
    "            # print(f\"# Proposing to add {dyad}\")\n",
    "            accept_change = yield (dyad,), tuple()\n",
    "\n",
    "            if accept_change:\n",
    "                # print(\"# adding\")\n",
    "                G.add(dyad)\n",
    "        yield"
   ]
  },
  {
   "cell_type": "code",
   "execution_count": 17,
   "metadata": {},
   "outputs": [
    {
     "name": "stdout",
     "output_type": "stream",
     "text": [
      "move (((3, 4),), ())\n",
      "edges before accept set()\n",
      "edges after accept {(3, 4)}\n",
      "# move (((2, 4),), ())\n",
      "# move (((1, 4),), ())\n",
      "# move (((1, 2),), ())\n",
      "# move (((2, 3),), ())\n",
      "# move ((), ((3, 4),))\n",
      "# move ((), ((2, 4),))\n",
      "# move ((), ((1, 4),))\n",
      "# move ((), ((2, 3),))\n",
      "# move (((0, 1),), ())\n",
      "# move (((0, 2),), ())\n"
     ]
    }
   ],
   "source": [
    "G = set()\n",
    "gen = dyad_flip_generator(np.random.default_rng(1), 5, G)\n",
    "first_move = next(gen)\n",
    "print(\"move\", first_move) #move (((3, 4),), ())\n",
    "print(\"edges before accept\", G) #set()\n",
    "next_move = gen.send(True)\n",
    "print(\"edges after accept\", G) #{(3, 4)}\n",
    "\n",
    "for i in range(10):\n",
    "    move = next(gen)\n",
    "    print(\"# move\", move)\n",
    "    gen.send(True)\n",
    "    \n",
    "# move (((2, 4),), ())\n",
    "# move (((1, 4),), ())\n",
    "# move (((1, 2),), ())\n",
    "# move (((2, 3),), ())\n",
    "# move ((), ((3, 4),))\n",
    "# move ((), ((2, 4),))\n",
    "# move ((), ((1, 4),))\n",
    "# move ((), ((2, 3),))\n",
    "# move (((0, 1),), ())\n",
    "# move (((0, 2),), ())"
   ]
  },
  {
   "cell_type": "markdown",
   "metadata": {},
   "source": [
    "### d) Add and delete move generator (4)\n",
    "\n",
    "The add and delete move generator chooses a dyad that is an edge and a dyad that is not an edge and swaps/sets the non-egde dyad to be an edge and the edge dyad to not be an edge. Thereby, the total number of edges in the model is preserved.\n",
    "\n",
    "Because the generator needs to be able to efficiently find a dyad that is present, it does some bookkeeping to keep track of an edge-list.\n",
    "\n",
    "\n",
    "Assume that the Graph G does support only three things `.add((i,j))` which adds an edge, `.remove((i,j))` to remove an edge and `(i,j) in G` to check whether the Graph contains the edge as well as iteration throught the graph to obtain all edges. The tuple `(i,j)` will be treated differently from the tuple `(j,i)`.\n",
    "\n",
    "Similar to c) we are using rejection sampling to select the non-edge and edge to swap. We are selecting the non-edge similar to c and once we found a valid non edge we chose an edge to swap with from our list of edges. We finally accept the pair of edge and non-edge."
   ]
  },
  {
   "cell_type": "code",
   "execution_count": 18,
   "metadata": {},
   "outputs": [],
   "source": [
    "def add_and_delete_generator(rng: np.random.Generator, n: int, G: set):\n",
    "    E_list = list(G)\n",
    "    while True:\n",
    "        # rejection sampling\n",
    "        i = 0\n",
    "        j = 0\n",
    "        while i == j or e(i, j) in G:\n",
    "            i = rng.integers(0, n)\n",
    "            j = rng.integers(0, n)\n",
    "        to_add = e(i, j)\n",
    "        to_remove = rng.choice(E_list)\n",
    "        to_remove = tuple(to_remove)\n",
    "        \n",
    "        decision = yield to_add, to_remove\n",
    "        if decision:\n",
    "            G.remove(to_remove)\n",
    "            G.add(to_add)\n",
    "            # replace value in the edge list\n",
    "            for i in range(len(E_list)):\n",
    "                if E_list[i] == to_remove:\n",
    "                    E_list[i] = to_add\n",
    "        yield"
   ]
  },
  {
   "cell_type": "code",
   "execution_count": 19,
   "metadata": {},
   "outputs": [
    {
     "name": "stdout",
     "output_type": "stream",
     "text": [
      "move ((1, 2), (0, 2))\n",
      "edges before accept {(0, 1), (0, 2)}\n",
      "edges after accept {(0, 1), (1, 2)}\n",
      "# move ((0, 3), (0, 1))\n",
      "# move ((0, 1), (1, 2))\n",
      "# move ((1, 3), (0, 3))\n",
      "# move ((2, 3), (0, 1))\n",
      "# move ((0, 3), (1, 3))\n",
      "# move ((0, 1), (2, 3))\n",
      "# move ((1, 3), (0, 3))\n",
      "# move ((1, 2), (1, 3))\n",
      "# move ((0, 3), (1, 2))\n",
      "# move ((2, 3), (0, 3))\n"
     ]
    }
   ],
   "source": [
    "G = set([(0,1 ),(0,2)])\n",
    "gen = add_and_delete_generator(np.random.default_rng(1), 4, G)\n",
    "\n",
    "first_move = next(gen)\n",
    "print(\"move\", first_move) # move (((1, 2),), ((0, 2),))\n",
    "print(\"edges before accept\", G) # {(0, 1), (0, 2)}\n",
    "next_move = gen.send(True)\n",
    "print(\"edges after accept\", G) # {(0, 1), (1, 2)}\n",
    "\n",
    "for i in range(10):\n",
    "    move = next(gen)\n",
    "    print(\"# move\", move)\n",
    "    gen.send(True)\n",
    "\n",
    "# move (((0, 3),), ((0, 1),))\n",
    "# move (((0, 1),), ((1, 2),))\n",
    "# move (((1, 3),), ((0, 3),))\n",
    "# move (((2, 3),), ((0, 1),))\n",
    "# move (((0, 3),), ((1, 3),))\n",
    "# move (((0, 1),), ((2, 3),))\n",
    "# move (((1, 3),), ((0, 3),))\n",
    "# move (((1, 2),), ((1, 3),))\n",
    "# move (((0, 3),), ((1, 2),))\n",
    "# move (((2, 3),), ((0, 3),))"
   ]
  },
  {
   "cell_type": "markdown",
   "metadata": {},
   "source": [
    "#### helper functions for the next tasks"
   ]
  },
  {
   "cell_type": "code",
   "execution_count": 20,
   "metadata": {},
   "outputs": [],
   "source": [
    "def quick_hist(vals, max_val):\n",
    "    C = Counter(vals)\n",
    "\n",
    "    x=[]\n",
    "    y=[]\n",
    "    for i in range(max_val):\n",
    "        x.append(i)\n",
    "        y.append(C[i])\n",
    "    return x,y"
   ]
  },
  {
   "cell_type": "code",
   "execution_count": 21,
   "metadata": {},
   "outputs": [],
   "source": [
    "def get_acceptor(method):\n",
    "    assert method in [\"glauber\", \"metropolis\"]\n",
    "    if method == \"metropolis\":\n",
    "        acceptor = metropolis_acceptor\n",
    "    else:\n",
    "        acceptor = glauber_acceptor\n",
    "    return acceptor"
   ]
  },
  {
   "cell_type": "markdown",
   "metadata": {},
   "source": [
    "### e) MCMC for Gnp (4)\n",
    "\n",
    "Write the delta calculator for the undirected Gnp model.\n",
    "Further, given the functions above, construct a method that performs MCMC of Gnp models.\n",
    "\n",
    "- `n` number of nodes\n",
    "- `p` the probability that an edge exists\n",
    "- `n_iter` is the number of samples to draw\n",
    "- `n_steps` is the number of random walk steps in between samples\n",
    "- `rng` is the random state\n",
    "\n",
    "The string `method` is used to switch between Glauber and Metropolis method for accepting moves, see helper function."
   ]
  },
  {
   "cell_type": "code",
   "execution_count": 22,
   "metadata": {},
   "outputs": [],
   "source": [
    "# NOTE: to pass the test cases swap to_remove with to_add\n",
    "def Gnp_delta_calculator(p, to_remove, to_add):\n",
    "    \"\"\"calculates the ratio to move from the current state to the next state for the Gnp model\"\"\"\n",
    "    return (p/(1-p))**(len(to_add)-len(to_remove))"
   ]
  },
  {
   "cell_type": "code",
   "execution_count": 23,
   "metadata": {},
   "outputs": [
    {
     "name": "stdout",
     "output_type": "stream",
     "text": [
      "# 80.99999999999999\n",
      "# 16.0\n",
      "# 0.01234567901234568\n",
      "# 1.0\n"
     ]
    }
   ],
   "source": [
    "# NOTE: to get the correct solutions swap to_remove with to_add\n",
    "print(\"#\", Gnp_delta_calculator(0.1, ((0,1)), tuple())) # 0.01234567901234568\n",
    "print(\"#\", Gnp_delta_calculator(0.2, ((0,1)), tuple())) # 0.0625\n",
    "print(\"#\", Gnp_delta_calculator(0.1, tuple(), ((0,1)))) # 81.0\n",
    "print(\"#\", Gnp_delta_calculator(0.1, tuple(), tuple())) # 1.0"
   ]
  },
  {
   "cell_type": "code",
   "execution_count": 24,
   "metadata": {},
   "outputs": [],
   "source": [
    "def MCMC_Gnp(n, p, n_iter, n_steps, rng, starting_edges = set(), method=\"metropolis\"):\n",
    "    delta_calculator = partial(Gnp_delta_calculator, p)\n",
    "    for _ in range(n_iter):\n",
    "        E = starting_edges.copy()\n",
    "        generator = dyad_flip_generator(rng, n, E)\n",
    "        acceptor = partial(get_acceptor(method), delta_calculator, rng)\n",
    "        for _ in range(n_steps):\n",
    "            to_add, to_remove = next(generator)\n",
    "            generator.send(acceptor(to_remove, to_add))\n",
    "        yield E.copy() # yields the edges"
   ]
  },
  {
   "cell_type": "code",
   "execution_count": 25,
   "metadata": {},
   "outputs": [
    {
     "name": "stdout",
     "output_type": "stream",
     "text": [
      "# set()\n",
      "# {(2, 4)}\n",
      "# set()\n",
      "# {(0, 4)}\n",
      "# set()\n",
      "# set()\n",
      "# set()\n",
      "# set()\n",
      "# set()\n",
      "# set()\n"
     ]
    }
   ],
   "source": [
    "l = list(MCMC_Gnp(5, 0.1, 10, 1, np.random.default_rng(2), set()))\n",
    "for E in l:\n",
    "    print(\"#\", E)\n",
    "# set()\n",
    "# {(2, 4)}\n",
    "# {(2, 4)}\n",
    "# {(2, 4), (0, 4)}\n",
    "# {(2, 4), (0, 4)}\n",
    "# {(2, 4), (0, 4)}\n",
    "# {(2, 4), (0, 4)}\n",
    "# {(0, 4)}\n",
    "# {(0, 4)}\n",
    "# {(0, 4)}"
   ]
  },
  {
   "cell_type": "markdown",
   "metadata": {},
   "source": [
    "#### For fun, lets plot the degree distribution of the Gnp model"
   ]
  },
  {
   "cell_type": "code",
   "execution_count": 26,
   "metadata": {},
   "outputs": [],
   "source": [
    "n=30\n",
    "p=0.3\n",
    "M = n*(n-1)//2\n",
    "edge_lens = list(map(len, MCMC_Gnp(n, p, 10000, 10, np.random.default_rng(1))))"
   ]
  },
  {
   "cell_type": "code",
   "execution_count": 27,
   "metadata": {},
   "outputs": [
    {
     "data": {
      "text/plain": [
       "[<matplotlib.lines.Line2D at 0x7fd50373d090>]"
      ]
     },
     "execution_count": 27,
     "metadata": {},
     "output_type": "execute_result"
    },
    {
     "data": {
      "image/png": "[encoded data removed]",
      "text/plain": [
       "<Figure size 432x288 with 1 Axes>"
      ]
     },
     "metadata": {
      "needs_background": "light"
     },
     "output_type": "display_data"
    }
   ],
   "source": [
    "plt.plot(*quick_hist(edge_lens, M))"
   ]
  },
  {
   "cell_type": "code",
   "execution_count": 28,
   "metadata": {},
   "outputs": [
    {
     "name": "stdout",
     "output_type": "stream",
     "text": [
      "4.2319\n",
      "130.5\n"
     ]
    }
   ],
   "source": [
    "# check theoretical and simulated mean agree\n",
    "print(np.mean(edge_lens))\n",
    "print(p*M)"
   ]
  },
  {
   "cell_type": "code",
   "execution_count": 29,
   "metadata": {},
   "outputs": [],
   "source": [
    "## Now with glauber method\n",
    "n=30\n",
    "p=0.3\n",
    "M = n*(n-1)//2\n",
    "edge_lens = list(map(len, MCMC_Gnp(n, p, 10000, 10, np.random.default_rng(1), method=\"glauber\")))"
   ]
  },
  {
   "cell_type": "code",
   "execution_count": 30,
   "metadata": {},
   "outputs": [
    {
     "data": {
      "text/plain": [
       "[<matplotlib.lines.Line2D at 0x7fd503890e80>]"
      ]
     },
     "execution_count": 30,
     "metadata": {},
     "output_type": "execute_result"
    },
    {
     "data": {
      "image/png": "[encoded data removed]",
      "text/plain": [
       "<Figure size 432x288 with 1 Axes>"
      ]
     },
     "metadata": {
      "needs_background": "light"
     },
     "output_type": "display_data"
    }
   ],
   "source": [
    "plt.plot(*quick_hist(edge_lens, M))"
   ]
  },
  {
   "cell_type": "markdown",
   "metadata": {},
   "source": [
    "### f) MCMC for Gmn (2)\n",
    "\n",
    "Similar to Gnp, construct a sampler that samples from Gmn. The meaning of the parameter values is similar to Gnp.\n",
    "\n",
    "- `n` number of nodes\n",
    "- `m` number of edges\n",
    "- initialize the starting state with th get_m_edges function.\n",
    "\n",
    "The string `method` is used to switch between Glauber and Metropolis method for accepting moves, see helper function."
   ]
  },
  {
   "cell_type": "code",
   "execution_count": 31,
   "metadata": {},
   "outputs": [],
   "source": [
    "def get_m_edges(m, n):\n",
    "    \"\"\"Dummy function which fills in m edges for a graph on n nodes\"\"\"\n",
    "    l = []\n",
    "    c = 0\n",
    "    for i in range(n):\n",
    "        for j in range(i+1,n):\n",
    "            c+=1\n",
    "            l.append((i,j))\n",
    "            if c>=m:\n",
    "                break\n",
    "        if c>=m:\n",
    "            break\n",
    "    return l"
   ]
  },
  {
   "cell_type": "code",
   "execution_count": 32,
   "metadata": {},
   "outputs": [],
   "source": [
    "def gmn_delta_calc(to_remove, to_add):\n",
    "    if len(to_remove) != len(to_add):\n",
    "        return 0\n",
    "    else:\n",
    "        return 1\n",
    "\n",
    "def MCMC_Gmn(n, m, n_iter, n_steps, rng, method = \"metropolis\"):\n",
    "    for _ in range(n_iter):\n",
    "        E = set(get_m_edges(m, n))\n",
    "        generator = add_and_delete_generator(rng, n, E)\n",
    "        acceptor = partial(get_acceptor(method), gmn_delta_calc, rng)\n",
    "        for _ in range(n_steps):\n",
    "            to_add, to_remove = next(generator)\n",
    "            generator.send(acceptor(to_remove, to_add))\n",
    "        yield E.copy() # yields the edges"
   ]
  },
  {
   "cell_type": "code",
   "execution_count": 33,
   "metadata": {},
   "outputs": [
    {
     "name": "stdout",
     "output_type": "stream",
     "text": [
      "# [(0, 2), (0, 3), (0, 4), (1, 2), (1, 3), (1, 4)]\n",
      "# [(0, 1), (0, 3), (0, 4), (1, 2), (1, 3), (3, 4)]\n",
      "# [(0, 1), (0, 3), (0, 4), (1, 2), (1, 3), (2, 3)]\n",
      "# [(0, 1), (0, 2), (0, 3), (0, 4), (1, 2), (3, 4)]\n",
      "# [(0, 1), (0, 2), (0, 3), (0, 4), (1, 2), (3, 4)]\n",
      "# [(0, 1), (0, 2), (0, 3), (0, 4), (1, 2), (3, 4)]\n",
      "# [(0, 1), (0, 3), (0, 4), (1, 2), (1, 3), (2, 3)]\n",
      "# [(0, 1), (0, 3), (0, 4), (1, 2), (1, 3), (2, 4)]\n",
      "# [(0, 1), (0, 2), (0, 3), (1, 2), (1, 3), (2, 3)]\n",
      "# [(0, 1), (0, 2), (0, 4), (1, 2), (1, 3), (2, 3)]\n"
     ]
    }
   ],
   "source": [
    "l = list(MCMC_Gmn(5, 6, 10, 1, np.random.default_rng(2)))\n",
    "for E in l:\n",
    "    print(\"#\", sorted(E))\n",
    "# [(0, 2), (0, 3), (0, 4), (1, 2), (1, 3), (1, 4)]\n",
    "# [(0, 1), (0, 2), (0, 4), (1, 2), (1, 3), (1, 4)]\n",
    "# [(0, 1), (0, 4), (1, 2), (1, 3), (1, 4), (2, 3)]\n",
    "# [(0, 1), (0, 4), (1, 2), (1, 4), (2, 3), (3, 4)]\n",
    "# [(0, 1), (0, 3), (1, 2), (1, 4), (2, 3), (3, 4)]\n",
    "# [(0, 1), (0, 2), (0, 3), (1, 2), (1, 4), (2, 3)]\n",
    "# [(0, 2), (0, 3), (1, 2), (1, 4), (2, 3), (2, 4)]\n",
    "# [(0, 2), (0, 3), (1, 2), (1, 3), (1, 4), (2, 3)]\n",
    "# [(0, 1), (0, 2), (0, 3), (1, 2), (1, 4), (2, 3)]\n",
    "# [(0, 1), (0, 2), (1, 2), (1, 4), (2, 3), (2, 4)]"
   ]
  },
  {
   "cell_type": "markdown",
   "metadata": {},
   "source": [
    "#### For fun, lets plot the max degree distr"
   ]
  },
  {
   "cell_type": "code",
   "execution_count": 34,
   "metadata": {},
   "outputs": [],
   "source": [
    "def max_degree(E):\n",
    "    return Counter(chain.from_iterable(E)).most_common(1)[0][1]//2"
   ]
  },
  {
   "cell_type": "code",
   "execution_count": 35,
   "metadata": {},
   "outputs": [
    {
     "name": "stdout",
     "output_type": "stream",
     "text": [
      "130 435 0.2988505747126437\n"
     ]
    },
    {
     "data": {
      "text/plain": [
       "10000"
      ]
     },
     "execution_count": 35,
     "metadata": {},
     "output_type": "execute_result"
    }
   ],
   "source": [
    "n=30\n",
    "M = n*(n-1)//2\n",
    "m=int(M*p)\n",
    "print(m, M, m/M)\n",
    "max_degree_list = list(map(max_degree, MCMC_Gmn(n, m, 10000, 10, np.random.default_rng(1))))\n",
    "len(max_degree_list)"
   ]
  },
  {
   "cell_type": "code",
   "execution_count": 36,
   "metadata": {},
   "outputs": [
    {
     "data": {
      "text/plain": [
       "[<matplotlib.lines.Line2D at 0x7fd503910280>]"
      ]
     },
     "execution_count": 36,
     "metadata": {},
     "output_type": "execute_result"
    },
    {
     "data": {
      "image/png": "[encoded data removed]",
      "text/plain": [
       "<Figure size 432x288 with 1 Axes>"
      ]
     },
     "metadata": {
      "needs_background": "light"
     },
     "output_type": "display_data"
    }
   ],
   "source": [
    "plt.plot(*quick_hist(max_degree_list, 20))"
   ]
  },
  {
   "cell_type": "markdown",
   "metadata": {},
   "source": [
    "## 2) The exponential random graph model with softly constrained first and second moment of the degree distribution (11 points)\n",
    "In this simple exponential random graph model, we constrain the first and second moment of the degree distribution by using parameters $\\alpha$ and  $\\beta$. The term within the exponential function for the transition from Graph $G$ to graph $G'$ reads:\n",
    "\n",
    "$$\n",
    "\\Delta_{ij} = \\alpha \\left(\\sum_l k_l(G') - \\sum_l k_l(G) \\right) +  \\beta \\left(\\sum_l k_l^2 (G') - \\sum_l k_l^2 (G)\\right)\n",
    "$$\n",
    "which simplifies to \n",
    "$$\n",
    "\\Delta_{ij} = \\pm 2  \\left ( \\alpha + \\beta [k_i(G) + k_j(G)]\\right ) + 2 \\beta \n",
    "$$\n",
    "for the case of one single dyad flip. The minus is used when the edge ij is in $G$ and the plus is used when ij is not in $G$.\n",
    "\n",
    "Why should we be interested in this model? This model exhibits two phases with a low probability to transition between them. It essentially \"breaks\" ergodicity for \"reasonable\" number of simulation steps while being ergodic in principle. More on that in subtask d)."
   ]
  },
  {
   "cell_type": "markdown",
   "metadata": {},
   "source": [
    "### a) Degree tracking (1)\n",
    "Write a class `DegreeTrackerGraph` that in addition to the edges being in the graph also tracks the degree of all the nodes."
   ]
  },
  {
   "cell_type": "code",
   "execution_count": 37,
   "metadata": {},
   "outputs": [],
   "source": [
    "from collections import defaultdict\n",
    "\n",
    "class DegreeTrackerGraph():\n",
    "    def __init__(self, E: set):\n",
    "        self.E = E\n",
    "        self.degrees = defaultdict(int)\n",
    "        for u, v in E:\n",
    "            self.degrees[u] += 1\n",
    "            self.degrees[v] += 1\n",
    "\n",
    "    \n",
    "    def add(self, edge: tuple):\n",
    "        \"\"\"Add edge to the graph, update degrees\"\"\"\n",
    "        self.E.add(edge)\n",
    "        u, v = edge\n",
    "        self.degrees[u] += 1\n",
    "        self.degrees[v] += 1\n",
    "\n",
    "        \n",
    "    def remove(self, edge):\n",
    "        \"\"\"Remove edge from the graph, update degrees\"\"\"\n",
    "        self.E.remove(edge)\n",
    "        u, v = edge\n",
    "        self.degrees[u] -= 1\n",
    "        self.degrees[v] -= 1\n",
    "        \n",
    "    def __contains__(self, edge):\n",
    "        \"\"\"Check whether edge is in the graph\"\"\"\n",
    "        return edge in self.E\n",
    "    \n",
    "    def __iter__(self):\n",
    "        \"\"\"returns an iter for this class\"\"\"\n",
    "        #do sth like return iter(self.E)\n",
    "        return iter(self.E)\n",
    "        \n",
    "    def degree(self, node):\n",
    "        \"\"\"Returns the degree of node\"\"\"\n",
    "        return self.degrees[node]"
   ]
  },
  {
   "cell_type": "code",
   "execution_count": 38,
   "metadata": {},
   "outputs": [
    {
     "name": "stdout",
     "output_type": "stream",
     "text": [
      "False\n",
      "True\n",
      "2\n",
      "1\n",
      "False\n"
     ]
    }
   ],
   "source": [
    "G = DegreeTrackerGraph(set())\n",
    "G.add((0,1))\n",
    "G.add((1,2))\n",
    "print(G.__contains__((1,3)))\n",
    "print(G.__contains__((1,2)))\n",
    "print(G.degree(1))\n",
    "print(G.degree(0))\n",
    "G.remove((1,2))\n",
    "print(G.__contains__((1,2)))\n",
    "\n",
    "# False\n",
    "# True\n",
    "# 2\n",
    "# 1\n",
    "# False"
   ]
  },
  {
   "cell_type": "code",
   "execution_count": 39,
   "metadata": {},
   "outputs": [
    {
     "name": "stdout",
     "output_type": "stream",
     "text": [
      "# (0, 1)\n",
      "# (1, 2)\n"
     ]
    }
   ],
   "source": [
    "# testing the __iter__ method.\n",
    "G.add((1,2))\n",
    "for edge in G:\n",
    "    print(\"#\", edge)\n",
    "# (0, 1)\n",
    "# (1, 2)\n"
   ]
  },
  {
   "cell_type": "code",
   "execution_count": 40,
   "metadata": {},
   "outputs": [],
   "source": [
    "import networkx as nx"
   ]
  },
  {
   "cell_type": "markdown",
   "metadata": {},
   "source": [
    "### b) Delta for the two moment model (2)\n",
    "Write a function that computes the $\\exp(\\Delta)$ for the two moment model. You may assume that the graph has a function `.degree(node)` that returns the degree of that node."
   ]
  },
  {
   "cell_type": "code",
   "execution_count": 41,
   "metadata": {},
   "outputs": [],
   "source": [
    "def two_moment_delta_calculator(G: DegreeTrackerGraph, alpha: float, beta: float, to_remove: list[tuple], to_add: list[tuple]) -> float:\n",
    "    # NOTE: this assumes only to_add or only to_remove to be filled with one entry\n",
    "    # NOTE: i would get the correct results for the test cases if i use G' instead of G here (i.e. increase/decrease note degree by one) but this seems incocrect regarding the formula given in the task description\n",
    "    if to_add and to_add[0]:\n",
    "        i, j = to_add[0]\n",
    "        if e(i, j) in G:\n",
    "            return None\n",
    "        k_i = G.degree(i)\n",
    "        k_j = G.degree(j)\n",
    "        # dont use minus as ij is not in G\n",
    "        delta = 2 * (alpha + beta * (k_i + k_j)) + 2 * beta\n",
    "        return np.exp(delta)\n",
    "    if to_remove and to_remove[0]:\n",
    "        i, j = to_remove[0]\n",
    "        if e(i, j) not in G:\n",
    "            return None\n",
    "        k_i = G.degree(i)\n",
    "        k_j = G.degree(j)\n",
    "        # use minus as ij is in G\n",
    "        delta = -2 * (alpha + beta * (k_i + k_j)) + 2 * beta\n",
    "        return np.exp(delta)\n",
    "    return None"
   ]
  },
  {
   "cell_type": "code",
   "execution_count": 42,
   "metadata": {},
   "outputs": [
    {
     "name": "stdout",
     "output_type": "stream",
     "text": [
      "4.953032424395115\n",
      "2.718281828459045\n",
      "None\n"
     ]
    }
   ],
   "source": [
    "G = DegreeTrackerGraph(set())\n",
    "G.add((0,1))\n",
    "print(two_moment_delta_calculator(G, 0.2, 0.3, ((1,3),),((1,2),)))\n",
    "print(two_moment_delta_calculator(G, 0.2, 0.3, ((1,3),),((2,3),)))\n",
    "print(two_moment_delta_calculator(G, 0.2, 0.3, ((1,3),), tuple(tuple())))\n",
    "\n",
    "# 0.20189651799465538\n",
    "# 0.36787944117144233\n",
    "# 4.953032424395115"
   ]
  },
  {
   "cell_type": "markdown",
   "metadata": {},
   "source": [
    "### c) Putting things together (3)\n",
    "Write a function that allows sampling from the two moment model. Thereby, use your defined 2-star delta calculator, and the `DegreeTrackerGraph` class.\n",
    "\n",
    "The string `method` is used to switch between Glauber and Metropolis method for accepting moves, see helper function."
   ]
  },
  {
   "cell_type": "code",
   "execution_count": 43,
   "metadata": {},
   "outputs": [],
   "source": [
    "def MCMC_two_moment(n, alpha, beta, sample_at, rng, G, method=\"metropolis\"):\n",
    "    generator = dyad_flip_generator(rng, n, G)\n",
    "    delta_calculator = partial(two_moment_delta_calculator, G, alpha, beta)\n",
    "    acceptor = partial(get_acceptor(method), delta_calculator, rng)\n",
    "    for i in range(max(sample_at)):\n",
    "        to_add, to_remove = next(generator)\n",
    "        # print(to_add, to_remove)\n",
    "        generator.send(acceptor(to_remove, to_add))\n",
    "        if i+1 in sample_at:\n",
    "            yield G.E # yields the edges"
   ]
  },
  {
   "cell_type": "code",
   "execution_count": 44,
   "metadata": {},
   "outputs": [
    {
     "name": "stdout",
     "output_type": "stream",
     "text": [
      "{(0, 1), (0, 7), (1, 2)}\n",
      "{(0, 1), (0, 7), (1, 2), (1, 5), (0, 2), (4, 8), (3, 5)}\n",
      "{(0, 1), (0, 7), (1, 2), (1, 5), (3, 7), (6, 7), (0, 2), (4, 5), (2, 6), (4, 8), (0, 5), (3, 5)}\n",
      "# 0 4\n",
      "# 1 3\n",
      "# 2 3\n",
      "# 3 2\n",
      "# 4 2\n",
      "# 5 4\n",
      "# 6 2\n",
      "# 7 3\n",
      "# 8 1\n",
      "# 9 0\n"
     ]
    }
   ],
   "source": [
    "G = DegreeTrackerGraph(set())\n",
    "G.add((0,1))\n",
    "G.add((1,2))\n",
    "sample_at = [1,5,10]\n",
    "gen = MCMC_two_moment(10, 0.3, 0.4, sample_at, np.random.default_rng(42), G)\n",
    "for _ in sample_at:\n",
    "    print(next(gen))\n",
    "for i in range(10):\n",
    "    print(\"#\", i, G.degree(i))\n",
    "\n",
    "# {(0, 1), (0, 7), (1, 2)}\n",
    "# {(0, 1), (0, 7), (0, 2), (1, 2), (4, 8), (1, 5), (3, 5)}\n",
    "# {(0, 1), (0, 7), (1, 2), (1, 5), (3, 7), (6, 7), (0, 2), (4, 5), (2, 6), (4, 8), (0, 5), (3, 5)}\n",
    "# 0 4\n",
    "# 1 3\n",
    "# 2 3\n",
    "# 3 2\n",
    "# 4 2\n",
    "# 5 4\n",
    "# 6 2\n",
    "# 7 3\n",
    "# 8 1\n",
    "# 9 0"
   ]
  },
  {
   "cell_type": "markdown",
   "metadata": {},
   "source": [
    "### d) The \"phases\" of the two moment model (3)\n",
    "\n",
    "We have shown that the sampling schema produces an ergodic markov chain which means that independent of the starting vector for sufficiently large number of iterations it will converge to a unique stationary distribution. But the number of iterations required to reach ergodicity in practice can be enourmous.\n",
    "\n",
    "The two moment model is know to exhibit two \"phases\", depending on the parameters $\\alpha$ and $\\beta$. In particular, a high density state and a low density state. The transition probability between these two phases is tiny. This effectively means, that when the parameters $\\alpha$ and $\\beta$ allow for both phases, we  effectively see ergodicity breaking on \"reasonable\" simulation timescales. That is, the state that we observe *will* depend on initial conditions.\n",
    "\n",
    "To that end, plot the average degree of the two moment model as it evolves as a function of simulation steps for various initial conditions.\n",
    "\n",
    "We choose a undirected system of 300 nodes. As initial state we choose a random sample from the Gnp model with p in `[0.0, 0.03, 0.06, 0.09, 0.12]`.\n",
    "We observe average degree for timesteps as outlined below.\n",
    "Create three figures with log-log scales containing the simulation results for\n",
    "1) $\\alpha, \\beta$ = (-2, 0.01),\n",
    "\n",
    "2) $\\alpha, \\beta$ = (-2, 0.016),\n",
    "\n",
    "3) $\\alpha, \\beta$ = (-2, 0.03)\n",
    "\n",
    "Save the figures here in the script as  `figure1.png`, `figure2.png`, `figure3.png` respectively.\n",
    "\n",
    "Each figure contains the 5 different initial conditions.\n",
    "<br>\n",
    "_NOTE_: Executing the code for this task might take a while until completion"
   ]
  },
  {
   "cell_type": "code",
   "execution_count": 45,
   "metadata": {},
   "outputs": [],
   "source": [
    "from tqdm.notebook import tqdm"
   ]
  },
  {
   "cell_type": "code",
   "execution_count": 46,
   "metadata": {},
   "outputs": [],
   "source": [
    "timesteps_to_sample_at = []\n",
    "for i in range(1,6):\n",
    "    for j in range(1,10):\n",
    "        timesteps_to_sample_at.append(j * 10**i)\n",
    "timesteps_to_sample_at.extend([1_000_000+ i * 100_000 for i in range(10)])"
   ]
  },
  {
   "cell_type": "code",
   "execution_count": 47,
   "metadata": {},
   "outputs": [
    {
     "name": "stdout",
     "output_type": "stream",
     "text": [
      "[10, 20, 30, 40, 50, 60, 70, 80, 90, 100, 200, 300, 400, 500, 600, 700, 800, 900, 1000, 2000, 3000, 4000, 5000, 6000, 7000, 8000, 9000, 10000, 20000, 30000, 40000, 50000, 60000, 70000, 80000, 90000, 100000, 200000, 300000, 400000, 500000, 600000, 700000, 800000, 900000, 1000000, 1100000, 1200000, 1300000, 1400000, 1500000, 1600000, 1700000, 1800000, 1900000]\n"
     ]
    }
   ],
   "source": [
    "print(timesteps_to_sample_at)"
   ]
  },
  {
   "cell_type": "code",
   "execution_count": 48,
   "metadata": {},
   "outputs": [
    {
     "name": "stdout",
     "output_type": "stream",
     "text": [
      "[0.0, 0.03, 0.06, 0.09, 0.12]\n"
     ]
    }
   ],
   "source": [
    "ps = [x/100 for x in range(0,13,3)]\n",
    "print(ps)"
   ]
  },
  {
   "cell_type": "code",
   "execution_count": 49,
   "metadata": {},
   "outputs": [],
   "source": [
    "def naive_gnp_sampler(n, p):\n",
    "    G = DegreeTrackerGraph(set())\n",
    "    for i in range(n):\n",
    "        for j in range(n):\n",
    "            if i < j:\n",
    "                if np.random.random() < p:\n",
    "                    G.add((i,j))\n",
    "    return G"
   ]
  },
  {
   "cell_type": "code",
   "execution_count": 50,
   "metadata": {},
   "outputs": [
    {
     "data": {
      "image/png": "[encoded data removed]",
      "text/plain": [
       "<Figure size 432x288 with 1 Axes>"
      ]
     },
     "metadata": {
      "needs_background": "light"
     },
     "output_type": "display_data"
    }
   ],
   "source": [
    "fig = plt.figure()\n",
    "\"\"\"Your Code HERE instead\"\"\"\n",
    "n = 300\n",
    "alpha = -2\n",
    "beta = 0.01\n",
    "for p in [0.0, 0.03, 0.06, 0.09, 0.12]:\n",
    "    G = naive_gnp_sampler(n, p)\n",
    "    gen = MCMC_two_moment(n=n, alpha=alpha, beta=beta, sample_at=timesteps_to_sample_at, rng=np.random.default_rng(24), G=G)\n",
    "    avg_k_list = []\n",
    "    for _ in timesteps_to_sample_at:\n",
    "        temp_G = next(gen)\n",
    "        avg_k_list.append(np.sum(list(G.degrees.values()))/n)\n",
    "    plt.plot(timesteps_to_sample_at, avg_k_list, label=f'p = {p}')\n",
    "plt.legend()\n",
    "plt.savefig(\"figure1.png\")#very important!, similar for the other figures."
   ]
  },
  {
   "cell_type": "code",
   "execution_count": 51,
   "metadata": {},
   "outputs": [
    {
     "data": {
      "image/png": "[encoded data removed]",
      "text/plain": [
       "<Figure size 432x288 with 1 Axes>"
      ]
     },
     "metadata": {
      "needs_background": "light"
     },
     "output_type": "display_data"
    }
   ],
   "source": [
    "fig = plt.figure()\n",
    "\"\"\"Your Code HERE instead\"\"\"\n",
    "n = 300\n",
    "alpha = -2\n",
    "beta = 0.016\n",
    "for p in [0.0, 0.03, 0.06, 0.09, 0.12]:\n",
    "    G = naive_gnp_sampler(n, p)\n",
    "    gen = MCMC_two_moment(n=n, alpha=alpha, beta=beta, sample_at=timesteps_to_sample_at, rng=np.random.default_rng(24), G=G)\n",
    "    avg_k_list = []\n",
    "    for _ in timesteps_to_sample_at:\n",
    "        temp_G = next(gen)\n",
    "        avg_k_list.append(np.sum(list(G.degrees.values()))/n)\n",
    "    plt.plot(timesteps_to_sample_at, avg_k_list, label=f'p = {p}')\n",
    "plt.legend()\n",
    "plt.savefig(\"figure2.png\")#very important!, similar for the other figures."
   ]
  },
  {
   "cell_type": "code",
   "execution_count": 52,
   "metadata": {},
   "outputs": [
    {
     "data": {
      "image/png": "[encoded data removed]",
      "text/plain": [
       "<Figure size 432x288 with 1 Axes>"
      ]
     },
     "metadata": {
      "needs_background": "light"
     },
     "output_type": "display_data"
    }
   ],
   "source": [
    "fig = plt.figure()\n",
    "\"\"\"Your Code HERE instead\"\"\"\n",
    "n = 300\n",
    "alpha = -2\n",
    "beta = 0.03\n",
    "for p in [0.0, 0.03, 0.06, 0.09, 0.12]:\n",
    "    G = naive_gnp_sampler(n, p)\n",
    "    gen = MCMC_two_moment(n=n, alpha=alpha, beta=beta, sample_at=timesteps_to_sample_at, rng=np.random.default_rng(24), G=G)\n",
    "    avg_k_list = []\n",
    "    for _ in timesteps_to_sample_at:\n",
    "        temp_G = next(gen)\n",
    "        avg_k_list.append(np.sum(list(G.degrees.values()))/n)\n",
    "    plt.plot(timesteps_to_sample_at, avg_k_list, label=f'p = {p}')\n",
    "plt.legend()\n",
    "plt.savefig(\"figure3.png\")#very important!, similar for the other figures."
   ]
  },
  {
   "cell_type": "markdown",
   "metadata": {},
   "source": [
    "### e) Burn-in time (2)\n",
    "\n",
    "Use the plots from 2d) to read of a burn-in time that is necessary for this particular model. Explain your choice."
   ]
  },
  {
   "cell_type": "code",
   "execution_count": 53,
   "metadata": {},
   "outputs": [],
   "source": [
    "text_2e = \"The necessary burn-in time seems to be around 300,000 iterations, because the average degree doesn't change significantly after that number of iterations for all initialization states of G and for all the different beta parameters that were choosen.\""
   ]
  },
  {
   "cell_type": "code",
   "execution_count": null,
   "metadata": {},
   "outputs": [],
   "source": []
  },
  {
   "cell_type": "code",
   "execution_count": null,
   "metadata": {},
   "outputs": [],
   "source": []
  }
 ],
 "metadata": {
  "interpreter": {
   "hash": "1e55d5441798faf50e3fefab2c2c055e34493fb39de3899c574c6ab19d5f21e2"
  },
  "kernelspec": {
   "display_name": "Python 3.10.4 ('social_networks')",
   "language": "python",
   "name": "python3"
  },
  "language_info": {
   "codemirror_mode": {
    "name": "ipython",
    "version": 3
   },
   "file_extension": ".py",
   "mimetype": "text/x-python",
   "name": "python",
   "nbconvert_exporter": "python",
   "pygments_lexer": "ipython3",
   "version": "3.10.4"
  }
 },
 "nbformat": 4,
 "nbformat_minor": 4
}
